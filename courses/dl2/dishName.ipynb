{
 "cells": [
  {
   "cell_type": "code",
   "execution_count": 1,
   "metadata": {},
   "outputs": [],
   "source": [
    "%matplotlib inline\n",
    "%reload_ext autoreload\n",
    "%autoreload 2"
   ]
  },
  {
   "cell_type": "code",
   "execution_count": 1,
   "metadata": {},
   "outputs": [],
   "source": [
    "from fastai.text import *"
   ]
  },
  {
   "cell_type": "code",
   "execution_count": 2,
   "metadata": {},
   "outputs": [
    {
     "name": "stdout",
     "output_type": "stream",
     "text": [
      "dishCodes.npy  wordDict.pkl\r\n"
     ]
    }
   ],
   "source": [
    "PATH = Path('../../data/menu')\n",
    "TMP_PATH = PATH/'tmp'\n",
    "TMP_PATH.mkdir(exist_ok=True)\n",
    "rawData = 'Dish.csv'\n",
    "!ls '../../data/menu/tmp'"
   ]
  },
  {
   "cell_type": "code",
   "execution_count": 3,
   "metadata": {},
   "outputs": [],
   "source": [
    "dfRaw = pd.read_csv((PATH/rawData).open())"
   ]
  },
  {
   "cell_type": "code",
   "execution_count": 35,
   "metadata": {},
   "outputs": [],
   "source": [
    "def getTokenIdx(rows):\n",
    "    freqs = Counter(wd for name in rows for wd in name.split(' ') )\n",
    "    itos = [key for key, count in freqs.most_common()]\n",
    "    itos.insert(0, '_bos_')\n",
    "    itos.insert(1, '_pad_')\n",
    "    itos.insert(2, '_eos_')\n",
    "    itos.insert(3, '_unk')\n",
    "    stoi = collections.defaultdict(lambda:3, {v:k for k,v in enumerate(itos)})\n",
    "    strCodes = [([stoi[i] for i in name.split(' ')]+[2]) for name in rows ]\n",
    "    strCodes = np.array(strCodes)\n",
    "    np.save(TMP_PATH/'dishCodes.npy', strCodes)\n",
    "    pickle.dump(itos, open(TMP_PATH/'wordList.pkl','wb'))\n",
    "    pickle.dump(dict(stoi), open(TMP_PATH/'wordDict.pkl','wb'))\n",
    "    # freqFreq = Counter(count for key, count in freqs.most_common())\n",
    "    # freqFreq.most_common()\n",
    "    return strCodes, stoi, itos\n",
    "strCodes, stoi, itos = getTokenIdx(dfRaw.name)"
   ]
  },
  {
   "cell_type": "code",
   "execution_count": 36,
   "metadata": {},
   "outputs": [],
   "source": [
    "def loadTokenIdx():\n",
    "    strCodes = np.load(TMP_PATH/'dishCodes.npy')\n",
    "    itos = pickle.load(open(TMP_PATH/'wordList.pkl','rb'))\n",
    "    stoi = collections.defaultdict(lambda: 3, pickle.load(open(TMP_PATH/'wordDict.pkl','rb')))\n",
    "    return strCodes, stoi, itos\n",
    "strCodes, stoi, itos = loadTokenIdx()"
   ]
  },
  {
   "cell_type": "code",
   "execution_count": null,
   "metadata": {},
   "outputs": [],
   "source": []
  }
 ],
 "metadata": {
  "kernelspec": {
   "display_name": "Python 3",
   "language": "python",
   "name": "python3"
  }
 },
 "nbformat": 4,
 "nbformat_minor": 2
}
